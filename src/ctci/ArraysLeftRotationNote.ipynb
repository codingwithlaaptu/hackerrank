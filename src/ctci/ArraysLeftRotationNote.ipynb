{
 "cells": [
  {
   "cell_type": "markdown",
   "metadata": {},
   "source": [
    "There are two concepts \n",
    " . Arrays item rotation \n",
    " . Arrays rotation ( which is simply item rotation multiple times)\n",
    " \n",
    "This proble addresses following concepts\n",
    " . No matter how long the rotation be it can't go beyond the length of the array\n",
    " Say we have to left shift {1,2,3,4} of array size 4 , 10 times. So each item needs \n",
    " to be shifted"
   ]
  }
 ],
 "metadata": {
  "kernelspec": {
   "display_name": "Python 3",
   "language": "python",
   "name": "python3"
  },
  "language_info": {
   "codemirror_mode": {
    "name": "ipython",
    "version": 3
   },
   "file_extension": ".py",
   "mimetype": "text/x-python",
   "name": "python",
   "nbconvert_exporter": "python",
   "pygments_lexer": "ipython3",
   "version": "3.5.2"
  }
 },
 "nbformat": 4,
 "nbformat_minor": 2
}
